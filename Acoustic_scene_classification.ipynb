{
  "nbformat": 4,
  "nbformat_minor": 0,
  "metadata": {
    "colab": {
      "name": "Acoustic scene classification.ipynb",
      "provenance": [],
      "collapsed_sections": [],
      "mount_file_id": "1OMX04mnm0bnE8Kq_2VOPR4xMNTupyiQr",
      "authorship_tag": "ABX9TyPi8Gp/2EZUe0ZcYxHDIdSq",
      "include_colab_link": true
    },
    "kernelspec": {
      "name": "python3",
      "display_name": "Python 3"
    },
    "language_info": {
      "name": "python"
    }
  },
  "cells": [
    {
      "cell_type": "markdown",
      "metadata": {
        "id": "view-in-github",
        "colab_type": "text"
      },
      "source": [
        "<a href=\"https://colab.research.google.com/github/shayanthrn/Acoustic_scene_classification/blob/main/Acoustic_scene_classification.ipynb\" target=\"_parent\"><img src=\"https://colab.research.google.com/assets/colab-badge.svg\" alt=\"Open In Colab\"/></a>"
      ]
    },
    {
      "cell_type": "markdown",
      "metadata": {
        "id": "mA-C-nOrajZ8"
      },
      "source": [
        "#Acoustic scene classification"
      ]
    },
    {
      "cell_type": "markdown",
      "metadata": {
        "id": "_W5j1vphYZ1a"
      },
      "source": [
        "Dataset: IEEE AASP CASA Challenge, Available on: http://dcase.community/challenge2013/task-acoustic-scene-classification\n",
        "<br/>Currently dataset is in my googe drive"
      ]
    },
    {
      "cell_type": "code",
      "metadata": {
        "id": "z5zv_ri5qvFQ",
        "colab": {
          "base_uri": "https://localhost:8080/"
        },
        "outputId": "43c36f2f-7464-4922-9255-1131a1f1ac55"
      },
      "source": [
        "!pip install torchaudio\n",
        "!pip install torchsummary"
      ],
      "execution_count": 51,
      "outputs": [
        {
          "output_type": "stream",
          "name": "stdout",
          "text": [
            "Requirement already satisfied: torchaudio in /usr/local/lib/python3.7/dist-packages (0.9.0)\n",
            "Requirement already satisfied: torch==1.9.0 in /usr/local/lib/python3.7/dist-packages (from torchaudio) (1.9.0+cu102)\n",
            "Requirement already satisfied: typing-extensions in /usr/local/lib/python3.7/dist-packages (from torch==1.9.0->torchaudio) (3.7.4.3)\n",
            "Requirement already satisfied: torchsummary in /usr/local/lib/python3.7/dist-packages (1.5.1)\n"
          ]
        }
      ]
    },
    {
      "cell_type": "markdown",
      "metadata": {
        "id": "leigR0aSqRuX"
      },
      "source": [
        "##import libraries"
      ]
    },
    {
      "cell_type": "code",
      "metadata": {
        "id": "GnXHPzXOaoRp"
      },
      "source": [
        "import torch\n",
        "import torch.nn as nn\n",
        "from torch.utils.data import Dataset\n",
        "from torch.utils.data import DataLoader\n",
        "import torchaudio\n",
        "import os\n",
        "from torchvision.transforms import ToTensor\n",
        "import numpy as np\n",
        "from torchsummary import summary"
      ],
      "execution_count": 26,
      "outputs": []
    },
    {
      "cell_type": "markdown",
      "metadata": {
        "id": "SXJFrOHawk8W"
      },
      "source": [
        "##global variables and hyperparameters"
      ]
    },
    {
      "cell_type": "code",
      "metadata": {
        "id": "aipJBiziwpof"
      },
      "source": [
        "class_map = [\"bus\",\"busystreet\",\"office\",\"openairmarket\",\"park\",\"quietstreet\",\"restaurant\",\"supermarket\",\"tube\",\"tubestation\"]\n",
        "BATCH_SIZE = 32\n",
        "DEVICE = \"cuda\" if torch.cuda.is_available() else \"cpu\"\n",
        "EPOCHS = 20\n",
        "LEARNING_RATE = 0.001"
      ],
      "execution_count": 50,
      "outputs": []
    },
    {
      "cell_type": "markdown",
      "metadata": {
        "id": "b0LMhgk9q9XW"
      },
      "source": [
        "##create dataset class for DCASE2013 dataset"
      ]
    },
    {
      "cell_type": "code",
      "metadata": {
        "id": "6R6c2UXcq_o2"
      },
      "source": [
        "class DCASE13(Dataset):\n",
        "\n",
        "  def __init__(self,path,class_map):\n",
        "    super().__init__()\n",
        "    self.dataset_path = path\n",
        "    self.class_map = class_map\n",
        "    self.sample_rate = 16000\n",
        "    self.device = \"cuda\" if torch.cuda.is_available() else \"cpu\"\n",
        "    self.n_sample = 160000 # 10 sec of each audio\n",
        "    self.mel_spectrogram = torchaudio.transforms.MelSpectrogram(sample_rate=self.sample_rate,n_fft=1024,hop_length=512,n_mels=64).to(self.device)\n",
        "  \n",
        "  def __len__(self):\n",
        "    return len(os.listdir(self.dataset_path))\n",
        "  \n",
        "  def __getitem__(self,index):\n",
        "    file_name = os.listdir(self.dataset_path)[index]\n",
        "    class_name = file_name.split('0')[0].split('1')[0]\n",
        "    label = class_map.index(class_name)\n",
        "    file_path = os.path.join(self.dataset_path,file_name)\n",
        "    signal, sample_rate = torchaudio.load(filepath=file_path)\n",
        "    signal = signal.to(self.device)\n",
        "    #resample if necessary\n",
        "    if(sample_rate != self.sample_rate):\n",
        "      resampler = torchaudio.transforms.Resample(sample_rate,self.sample_rate)\n",
        "      signal = resampler(signal)\n",
        "    # stereo to mono convert\n",
        "    if(signal.shape[0]>1):\n",
        "      signal = torch.mean(signal, dim=0, keepdim=True)\n",
        "    #adjust lenght\n",
        "\n",
        "    #cut if necessary\n",
        "    if(signal.shape[1]>self.n_sample):\n",
        "      signal = signal [:,:self.n_sample]\n",
        "    #pad if necessary\n",
        "    elif(signal.shape[1]<self.n_sample):\n",
        "      signal = nn.functional.pad(signal,(0,self.n_sample-signal.shape[1])) #right pad at last dim\n",
        "    else:\n",
        "      pass\n",
        "    \n",
        "    signal = self.mel_spectrogram(signal)\n",
        "    print(signal.shape)\n",
        "    return signal,label\n",
        "\n",
        "\n"
      ],
      "execution_count": 28,
      "outputs": []
    },
    {
      "cell_type": "markdown",
      "metadata": {
        "id": "doP3YyPA109d"
      },
      "source": [
        "## create our model which is a CNN\n",
        "<Br />\n",
        "architecture --> 4 Convolutional layer + relu activation + max pooling, flatten,linear, soft max\n",
        "<br /> kernel for Convolutional : 3x3,  kernel for max pooling: 2x2"
      ]
    },
    {
      "cell_type": "code",
      "metadata": {
        "id": "5JA62ok_10nX"
      },
      "source": [
        "class CNN(nn.Module):\n",
        "\n",
        "  def __init__(self):\n",
        "    super().__init__()\n",
        "\n",
        "    self.conv1 = nn.Sequential(\n",
        "        nn.Conv2d(\n",
        "            in_channels=1,\n",
        "            out_channels=16,\n",
        "            kernel_size=3,\n",
        "            stride=1,\n",
        "            padding=2\n",
        "        ),\n",
        "        nn.ReLU(),\n",
        "        nn.MaxPool2d(kernel_size=2)\n",
        "    )\n",
        "    self.conv2 = nn.Sequential(\n",
        "        nn.Conv2d(\n",
        "            in_channels=16,\n",
        "            out_channels=32,\n",
        "            kernel_size=3,\n",
        "            stride=1,\n",
        "            padding=2\n",
        "        ),\n",
        "        nn.ReLU(),\n",
        "        nn.MaxPool2d(kernel_size=2)\n",
        "    )\n",
        "    self.conv3 = nn.Sequential(\n",
        "        nn.Conv2d(\n",
        "            in_channels=32,\n",
        "            out_channels=64,\n",
        "            kernel_size=3,\n",
        "            stride=1,\n",
        "            padding=2\n",
        "        ),\n",
        "        nn.ReLU(),\n",
        "        nn.MaxPool2d(kernel_size=2)\n",
        "    )\n",
        "    self.conv4 = nn.Sequential(\n",
        "        nn.Conv2d(\n",
        "            in_channels=64,\n",
        "            out_channels=128,\n",
        "            kernel_size=3,\n",
        "            stride=1,\n",
        "            padding=2\n",
        "        ),\n",
        "        nn.ReLU(),\n",
        "        nn.MaxPool2d(kernel_size=2)\n",
        "    )\n",
        "    self.flat = nn.Flatten()\n",
        "    self.linear = nn.Linear(\n",
        "        in_features = 128*5*21,\n",
        "        out_features = 10\n",
        "    )\n",
        "    self.softmax = nn.Softmax(dim=1)\n",
        "  \n",
        "  def forward(self,input):\n",
        "    x = self.conv1(input)\n",
        "    x = self.conv2(x)\n",
        "    x = self.conv3(x)\n",
        "    x = self.conv4(x)\n",
        "    x = self.flat(x)\n",
        "    x = self.linear(x)\n",
        "    predict = self.softmax(x)\n",
        "    return predict"
      ],
      "execution_count": 45,
      "outputs": []
    },
    {
      "cell_type": "code",
      "metadata": {
        "id": "wOVhsflM8xWN"
      },
      "source": [
        "cnn = CNN().to(DEVICE)"
      ],
      "execution_count": 46,
      "outputs": []
    },
    {
      "cell_type": "code",
      "metadata": {
        "colab": {
          "base_uri": "https://localhost:8080/"
        },
        "id": "kB1O1Hbh8rdm",
        "outputId": "815cfbbf-bf0e-4227-824f-684b88bfd149"
      },
      "source": [
        "summary(cnn, (1, 64, 313))"
      ],
      "execution_count": 47,
      "outputs": [
        {
          "output_type": "stream",
          "name": "stdout",
          "text": [
            "----------------------------------------------------------------\n",
            "        Layer (type)               Output Shape         Param #\n",
            "================================================================\n",
            "            Conv2d-1          [-1, 16, 66, 315]             160\n",
            "              ReLU-2          [-1, 16, 66, 315]               0\n",
            "         MaxPool2d-3          [-1, 16, 33, 157]               0\n",
            "            Conv2d-4          [-1, 32, 35, 159]           4,640\n",
            "              ReLU-5          [-1, 32, 35, 159]               0\n",
            "         MaxPool2d-6           [-1, 32, 17, 79]               0\n",
            "            Conv2d-7           [-1, 64, 19, 81]          18,496\n",
            "              ReLU-8           [-1, 64, 19, 81]               0\n",
            "         MaxPool2d-9            [-1, 64, 9, 40]               0\n",
            "           Conv2d-10          [-1, 128, 11, 42]          73,856\n",
            "             ReLU-11          [-1, 128, 11, 42]               0\n",
            "        MaxPool2d-12           [-1, 128, 5, 21]               0\n",
            "          Flatten-13                [-1, 13440]               0\n",
            "           Linear-14                   [-1, 10]         134,410\n",
            "          Softmax-15                   [-1, 10]               0\n",
            "================================================================\n",
            "Total params: 231,562\n",
            "Trainable params: 231,562\n",
            "Non-trainable params: 0\n",
            "----------------------------------------------------------------\n",
            "Input size (MB): 0.08\n",
            "Forward/backward pass size (MB): 11.54\n",
            "Params size (MB): 0.88\n",
            "Estimated Total Size (MB): 12.50\n",
            "----------------------------------------------------------------\n"
          ]
        }
      ]
    },
    {
      "cell_type": "markdown",
      "metadata": {
        "id": "WrMEf3NzBRLt"
      },
      "source": [
        "## Train Function\n",
        "<br /> optimizer:adam, loss function: crossentropy, batch size: 32, epochs: 20, learning rate: 0.001"
      ]
    },
    {
      "cell_type": "code",
      "metadata": {
        "id": "5EI0O2pvB1Tk"
      },
      "source": [
        "def train_one_epoch(model,dataloader,optimizer,loss_f,device):\n",
        "\n",
        "  for signal, label in dataloader:\n",
        "\n",
        "    signal, label = signal.to(device), label.to(device)\n",
        "    output = model(signal)\n",
        "    loss = loss_f(output,label)\n",
        "    optimizer.zero_grad()\n",
        "    loss.backward()\n",
        "    optimizer.step()\n",
        "  print(f\"loss after this epoch: {loss.item()}\")\n",
        "\n",
        "def train(model,dataloader,optimizer,loss_f,device,epochs):\n",
        "  model.train()\n",
        "  for i in range(epochs):\n",
        "    print(f\" Epoch: {i+1}\")\n",
        "    train_one_epoch(model,dataloader,optimizer,loss_f,device)\n",
        "    print(\"----------------------\")"
      ],
      "execution_count": null,
      "outputs": []
    },
    {
      "cell_type": "code",
      "metadata": {
        "id": "0PlRuUeH1r2T"
      },
      "source": [
        "dcase13 = DCASE13(\"/content/drive/MyDrive/IEEE_AASP_CASA_Challenge/DCASE13_train\",class_map)"
      ],
      "execution_count": 48,
      "outputs": []
    },
    {
      "cell_type": "code",
      "metadata": {
        "id": "nmnJnjd22d2L"
      },
      "source": [
        "dataloader = DataLoader(dcase13 , batch_size=BATCH_SIZE , shuffle=True)"
      ],
      "execution_count": 49,
      "outputs": []
    },
    {
      "cell_type": "code",
      "metadata": {
        "id": "woSO6yKaDv-s"
      },
      "source": [
        "optimizer = torch.optim.Adam(cnn.parameters(),lr=LEARNING_RATE)"
      ],
      "execution_count": 53,
      "outputs": []
    },
    {
      "cell_type": "code",
      "metadata": {
        "id": "-aLqolgMEGgL"
      },
      "source": [
        "loss_f = nn.CrossEntropyLoss()"
      ],
      "execution_count": 54,
      "outputs": []
    },
    {
      "cell_type": "code",
      "metadata": {
        "id": "Ca_xjLwCERHS"
      },
      "source": [
        "train(cnn,dataloader,optimizer,loss_f,DEVICE,EPOCHS)"
      ],
      "execution_count": null,
      "outputs": []
    },
    {
      "cell_type": "code",
      "metadata": {
        "id": "vSwTUZUAEQEU"
      },
      "source": [
        "torch.save(cnn.state_dict(), \"feedforwardnet.pth\")"
      ],
      "execution_count": null,
      "outputs": []
    }
  ]
}